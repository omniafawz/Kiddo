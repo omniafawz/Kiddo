{
  "nbformat": 4,
  "nbformat_minor": 0,
  "metadata": {
    "colab": {
      "provenance": []
    },
    "kernelspec": {
      "name": "python3",
      "display_name": "Python 3"
    },
    "language_info": {
      "name": "python"
    }
  },
  "cells": [
    {
      "cell_type": "code",
      "execution_count": null,
      "metadata": {
        "id": "eXofo3jiDV6w"
      },
      "outputs": [],
      "source": [
        "import os\n",
        "import sys\n",
        "import numpy as np\n",
        "import warnings\n",
        "import librosa #for audio processing\n",
        "import IPython. display as ipd\n",
        "from keras.utils import np_utils\n",
        "import matplotlib. pyplot as plt\n",
        "from IPython.display import Audio\n",
        "from scipy. io import wavfile #for audio processing\n",
        "from sklearn.preprocessing import LabelEncoder\n",
        "from sklearn.model_selection import train_test_split\n",
        "from keras.layers import Dense, Dropout, Flatten, Conv1D, Input, MaxPooling1D\n",
        "from keras.models import Model\n",
        "from keras.callbacks import EarlyStopping, ModelCheckpoint\n",
        "from keras import backend as K\n",
        "K.clear_session()\n",
        "np.random.seed(1)\n",
        "\n",
        "warnings. filterwarnings(\"ignore\")\n",
        "\n",
        "sample_r = 8000\n",
        "bs = 32\n",
        "\n",
        "snapshot_folder ='weights'"
      ]
    },
    {
      "cell_type": "code",
      "source": [
        "!pip install librosa==0.8.1"
      ],
      "metadata": {
        "colab": {
          "base_uri": "https://localhost:8080/"
        },
        "id": "l9ipFkxPD0cO",
        "outputId": "21cbb9a4-4f3a-4393-b267-28c712a0056a"
      },
      "execution_count": null,
      "outputs": [
        {
          "output_type": "stream",
          "name": "stdout",
          "text": [
            "Looking in indexes: https://pypi.org/simple, https://us-python.pkg.dev/colab-wheels/public/simple/\n",
            "Requirement already satisfied: librosa==0.8.1 in /usr/local/lib/python3.10/dist-packages (0.8.1)\n",
            "Requirement already satisfied: audioread>=2.0.0 in /usr/local/lib/python3.10/dist-packages (from librosa==0.8.1) (3.0.0)\n",
            "Requirement already satisfied: numpy>=1.15.0 in /usr/local/lib/python3.10/dist-packages (from librosa==0.8.1) (1.22.4)\n",
            "Requirement already satisfied: scipy>=1.0.0 in /usr/local/lib/python3.10/dist-packages (from librosa==0.8.1) (1.10.1)\n",
            "Requirement already satisfied: scikit-learn!=0.19.0,>=0.14.0 in /usr/local/lib/python3.10/dist-packages (from librosa==0.8.1) (1.2.2)\n",
            "Requirement already satisfied: joblib>=0.14 in /usr/local/lib/python3.10/dist-packages (from librosa==0.8.1) (1.2.0)\n",
            "Requirement already satisfied: decorator>=3.0.0 in /usr/local/lib/python3.10/dist-packages (from librosa==0.8.1) (4.4.2)\n",
            "Requirement already satisfied: resampy>=0.2.2 in /usr/local/lib/python3.10/dist-packages (from librosa==0.8.1) (0.4.2)\n",
            "Requirement already satisfied: numba>=0.43.0 in /usr/local/lib/python3.10/dist-packages (from librosa==0.8.1) (0.56.4)\n",
            "Requirement already satisfied: soundfile>=0.10.2 in /usr/local/lib/python3.10/dist-packages (from librosa==0.8.1) (0.12.1)\n",
            "Requirement already satisfied: pooch>=1.0 in /usr/local/lib/python3.10/dist-packages (from librosa==0.8.1) (1.6.0)\n",
            "Requirement already satisfied: packaging>=20.0 in /usr/local/lib/python3.10/dist-packages (from librosa==0.8.1) (23.1)\n",
            "Requirement already satisfied: llvmlite<0.40,>=0.39.0dev0 in /usr/local/lib/python3.10/dist-packages (from numba>=0.43.0->librosa==0.8.1) (0.39.1)\n",
            "Requirement already satisfied: setuptools in /usr/local/lib/python3.10/dist-packages (from numba>=0.43.0->librosa==0.8.1) (67.7.2)\n",
            "Requirement already satisfied: appdirs>=1.3.0 in /usr/local/lib/python3.10/dist-packages (from pooch>=1.0->librosa==0.8.1) (1.4.4)\n",
            "Requirement already satisfied: requests>=2.19.0 in /usr/local/lib/python3.10/dist-packages (from pooch>=1.0->librosa==0.8.1) (2.27.1)\n",
            "Requirement already satisfied: threadpoolctl>=2.0.0 in /usr/local/lib/python3.10/dist-packages (from scikit-learn!=0.19.0,>=0.14.0->librosa==0.8.1) (3.1.0)\n",
            "Requirement already satisfied: cffi>=1.0 in /usr/local/lib/python3.10/dist-packages (from soundfile>=0.10.2->librosa==0.8.1) (1.15.1)\n",
            "Requirement already satisfied: pycparser in /usr/local/lib/python3.10/dist-packages (from cffi>=1.0->soundfile>=0.10.2->librosa==0.8.1) (2.21)\n",
            "Requirement already satisfied: urllib3<1.27,>=1.21.1 in /usr/local/lib/python3.10/dist-packages (from requests>=2.19.0->pooch>=1.0->librosa==0.8.1) (1.26.15)\n",
            "Requirement already satisfied: certifi>=2017.4.17 in /usr/local/lib/python3.10/dist-packages (from requests>=2.19.0->pooch>=1.0->librosa==0.8.1) (2022.12.7)\n",
            "Requirement already satisfied: charset-normalizer~=2.0.0 in /usr/local/lib/python3.10/dist-packages (from requests>=2.19.0->pooch>=1.0->librosa==0.8.1) (2.0.12)\n",
            "Requirement already satisfied: idna<4,>=2.5 in /usr/local/lib/python3.10/dist-packages (from requests>=2.19.0->pooch>=1.0->librosa==0.8.1) (3.4)\n"
          ]
        }
      ]
    },
    {
      "cell_type": "code",
      "source": [
        "def progressBar(value, endvalue, bar_length=20,job='Job'):\n",
        "\n",
        "    percent = float(value) / endvalue\n",
        "    arrow = '-' * int(round(percent * bar_length)-1) + '>'\n",
        "    spaces = ' ' * (bar_length - len(arrow))\n",
        "\n",
        "    sys.stdout.write(\"\\r{0} Completion: [{1}] {2}%\".format(job,arrow + spaces, int(round(percent * 100))))\n",
        "    sys.stdout.flush()"
      ],
      "metadata": {
        "id": "qM0_K8M5ENjK"
      },
      "execution_count": null,
      "outputs": []
    },
    {
      "cell_type": "code",
      "source": [
        "from google.colab import drive\n",
        "drive.mount('/content/drive')"
      ],
      "metadata": {
        "colab": {
          "base_uri": "https://localhost:8080/"
        },
        "id": "rBtWKTLsERTy",
        "outputId": "f0c63039-8272-4912-9740-95d03e2d2c9d"
      },
      "execution_count": null,
      "outputs": [
        {
          "output_type": "stream",
          "name": "stdout",
          "text": [
            "Drive already mounted at /content/drive; to attempt to forcibly remount, call drive.mount(\"/content/drive\", force_remount=True).\n"
          ]
        }
      ]
    },
    {
      "cell_type": "code",
      "source": [
        "train_audio_path = '/content/drive/MyDrive/ColabNotebook/train/audio'\n",
        "labels=os.listdir(train_audio_path)"
      ],
      "metadata": {
        "id": "REEh22wZEcao"
      },
      "execution_count": null,
      "outputs": []
    },
    {
      "cell_type": "code",
      "source": [
        "#find count of each label and plot bar graph\n",
        "no_of_recordings=[]\n",
        "for label in labels:\n",
        "    waves = [ f for f in os. listdir(train_audio_path + '/' + label) if f. endswith('.wav' )]\n",
        "    no_of_recordings. append(len(waves))\n",
        "\n",
        "# ploting the class distribution\n",
        "plt. figure(figsize=(30, 5))\n",
        "index = np. arange(len(labels))\n",
        "plt. bar(index, no_of_recordings)\n",
        "plt. xlabel('Commands' , fontsize=12)\n",
        "plt. ylabel('No of recordings' , fontsize=12)\n",
        "plt. xticks(index, labels, fontsize=15, rotation=60)\n",
        "plt. title('No. of recordings for each command' )\n",
        "plt. show()\n",
        "labels=[ \"yes\", \"no\", \"up\", \"down\", \"left\", \"right\", \"on\", \"off\", \"stop\", \"go\"]"
      ],
      "metadata": {
        "colab": {
          "base_uri": "https://localhost:8080/",
          "height": 239
        },
        "id": "_GGzv7WdEh9l",
        "outputId": "669e41a4-176d-4d46-898e-227273c951b6"
      },
      "execution_count": null,
      "outputs": [
        {
          "output_type": "display_data",
          "data": {
            "text/plain": [
              "<Figure size 3000x500 with 1 Axes>"
            ],
            "image/png": "[encoded data removed]"
          },
          "metadata": {}
        }
      ]
    },
    {
      "cell_type": "code",
      "source": [
        "train_audio_path = '/content/drive/MyDrive/ColabNotebook/train/audio'\n",
        "labels=os. listdir(train_audio_path)     \n",
        "duration_of_recordings=[]\n",
        "for label in labels:\n",
        "    waves = [ f for f in os. listdir(train_audio_path + '/' + label) if f. endswith('.wav' )]\n",
        "    for wav in waves:\n",
        "        sample_rate, samples = wavfile. read(train_audio_path + '/' + label + '/' + wav)\n",
        "        duration_of_recordings.append(float(len(samples) /sample_rate))\n",
        "\n",
        "len_train = len(duration_of_recordings)\n",
        "plt.title('Durations')\n",
        "plt.hist(np.array(duration_of_recordings))"
      ],
      "metadata": {
        "colab": {
          "base_uri": "https://localhost:8080/",
          "height": 521
        },
        "id": "_z9gBYO6Em_6",
        "outputId": "fe293521-0edb-4c18-ce81-7c8d987c5791"
      },
      "execution_count": null,
      "outputs": [
        {
          "output_type": "execute_result",
          "data": {
            "text/plain": [
              "(array([  4.,   3.,  18.,   2.,  12.,  11.,  12.,  49., 114.,  19.]),\n",
              " array([6.52 , 6.574, 6.628, 6.682, 6.736, 6.79 , 6.844, 6.898, 6.952,\n",
              "        7.006, 7.06 ]),\n",
              " <BarContainer object of 10 artists>)"
            ]
          },
          "metadata": {},
          "execution_count": 29
        },
        {
          "output_type": "display_data",
          "data": {
            "text/plain": [
              "<Figure size 640x480 with 1 Axes>"
            ],
            "image/png": "[encoded data removed]"
          },
          "metadata": {}
        }
      ]
    },
    {
      "cell_type": "code",
      "source": [
        "train_audio_path = '/content/drive/MyDrive/ColabNotebook/train/audio'\n",
        "labels=os. listdir(train_audio_path)\n",
        "\n",
        "def read_data(train_audio_path):\n",
        "    i =0 \n",
        "    all_wave = []\n",
        "    all_label = []\n",
        "    for label in labels:\n",
        "        i+=1\n",
        "        progressBar(i, len(labels), bar_length=20,job='Resampling, Removing shorter commands')\n",
        "        waves = [f for f in os.listdir(train_audio_path + '/'+ label) if f.endswith('.wav')]\n",
        "        for wav in waves:\n",
        "            samples, sample_rate = librosa.load(train_audio_path + '/' + label + '/' + wav, sr = 16000)\n",
        "            samples = librosa.core.resample(samples, sample_rate, sample_r )\n",
        "            if(len(samples)== 56000) :\n",
        "               all_wave.append(samples)\n",
        "               all_label.append(label)\n",
        "                \n",
        "    return all_wave, all_label\n",
        "\n",
        "all_wave, all_label = read_data(train_audio_path)\n",
        "print(len(all_wave))"
      ],
      "metadata": {
        "colab": {
          "base_uri": "https://localhost:8080/"
        },
        "id": "Oae6S-rRe0sj",
        "outputId": "1f3f5722-66d8-4b4a-812c-d285757dd6d5"
      },
      "execution_count": null,
      "outputs": [
        {
          "output_type": "stream",
          "name": "stdout",
          "text": [
            "Resampling, Removing shorter commands Completion: [------------------->] 100%97\n"
          ]
        }
      ]
    },
    {
      "cell_type": "code",
      "source": [
        "sample_r= 56000"
      ],
      "metadata": {
        "id": "vIUcADjQg2jz"
      },
      "execution_count": null,
      "outputs": []
    },
    {
      "cell_type": "code",
      "source": [
        "train_audio_path ='/content/drive/MyDrive/ColabNotebook/train/audio'\n",
        "labels=os. listdir(train_audio_path)\n",
        "le = LabelEncoder()\n",
        "y=le.fit_transform(all_label)\n",
        "classes= list(le.classes_)\n",
        "classes\n",
        "len(y)"
      ],
      "metadata": {
        "colab": {
          "base_uri": "https://localhost:8080/"
        },
        "id": "hTtqgqI9FFPP",
        "outputId": "f968f9e5-96e3-445c-d17c-2986af17e1ee"
      },
      "execution_count": null,
      "outputs": [
        {
          "output_type": "execute_result",
          "data": {
            "text/plain": [
              "97"
            ]
          },
          "metadata": {},
          "execution_count": 32
        }
      ]
    },
    {
      "cell_type": "code",
      "source": [
        "y=np_utils.to_categorical(y, num_classes=len(labels))\n",
        "len(y)"
      ],
      "metadata": {
        "colab": {
          "base_uri": "https://localhost:8080/"
        },
        "id": "m_bKkPY-FK0w",
        "outputId": "1382349f-4c41-48d7-d296-041fea38fce3"
      },
      "execution_count": null,
      "outputs": [
        {
          "output_type": "execute_result",
          "data": {
            "text/plain": [
              "97"
            ]
          },
          "metadata": {},
          "execution_count": 33
        }
      ]
    },
    {
      "cell_type": "code",
      "source": [
        "x_tr, x_val, y_tr, y_val = train_test_split(np.array(all_wave),np.array(y),stratify=y, test_size = 0.2, random_state=1, shuffle=True)"
      ],
      "metadata": {
        "id": "U5qVPF54FU_g"
      },
      "execution_count": null,
      "outputs": []
    },
    {
      "cell_type": "code",
      "source": [
        "x_tr = np.array(x_tr).reshape(-1,sample_r,1)\n",
        "x_val = np.array(x_val).reshape(-1,sample_r,1)"
      ],
      "metadata": {
        "id": "WHDSvq8eFYlO"
      },
      "execution_count": null,
      "outputs": []
    },
    {
      "cell_type": "code",
      "source": [
        "def make_model():\n",
        "    inputs = Input(shape=(sample_r,1))\n",
        "\n",
        "    #First Conv1D layer\n",
        "    conv = Conv1D(8,13, padding='valid', activation='relu', strides=1)(inputs)\n",
        "    conv = MaxPooling1D(3)(conv)\n",
        "    conv = Dropout(0.3)(conv)\n",
        "\n",
        "    #Second Conv1D layer\n",
        "    conv = Conv1D(16, 11, padding='valid', activation='relu', strides=1)(conv)\n",
        "    conv = MaxPooling1D(3)(conv)\n",
        "    conv = Dropout(0.3)(conv)\n",
        "\n",
        "    #Third Conv1D layer\n",
        "    conv = Conv1D(32, 9, padding='valid', activation='relu', strides=1)(conv)\n",
        "    conv = MaxPooling1D(3)(conv)\n",
        "    conv = Dropout(0.3)(conv)\n",
        "\n",
        "    #Fourth Conv1D layer\n",
        "    conv = Conv1D(64, 7, padding='valid', activation='relu', strides=1)(conv)\n",
        "    conv = MaxPooling1D(3)(conv)\n",
        "    conv = Dropout(0.3)(conv)\n",
        "\n",
        "    #Flatten layer\n",
        "    conv = Flatten()(conv)\n",
        "\n",
        "    #Dense Layer 1\n",
        "    conv = Dense(256, activation='relu')(conv)\n",
        "    conv = Dropout(0.3)(conv)\n",
        "\n",
        "    #Dense Layer 2\n",
        "    conv = Dense(128, activation='relu')(conv)\n",
        "    conv = Dropout(0.3)(conv)\n",
        "\n",
        "    outputs = Dense(len(labels), activation='softmax')(conv)\n",
        "\n",
        "    model = Model(inputs, outputs)\n",
        "    model.summary()\n",
        "    return model\n",
        "    "
      ],
      "metadata": {
        "id": "Slrdc2I7Fepr"
      },
      "execution_count": null,
      "outputs": []
    },
    {
      "cell_type": "code",
      "source": [
        "model = make_model()\n",
        "model.compile(loss='categorical_crossentropy',optimizer='adam',metrics=['accuracy'])"
      ],
      "metadata": {
        "colab": {
          "base_uri": "https://localhost:8080/"
        },
        "id": "hd7PKPgBFjPL",
        "outputId": "666fe3cc-252e-47a0-f3bd-9ad3c0c3d7a2"
      },
      "execution_count": null,
      "outputs": [
        {
          "output_type": "stream",
          "name": "stdout",
          "text": [
            "Model: \"model\"\n",
            "_________________________________________________________________\n",
            " Layer (type)                Output Shape              Param #   \n",
            "=================================================================\n",
            " input_1 (InputLayer)        [(None, 56000, 1)]        0         \n",
            "                                                                 \n",
            " conv1d (Conv1D)             (None, 55988, 8)          112       \n",
            "                                                                 \n",
            " max_pooling1d (MaxPooling1D  (None, 18662, 8)         0         \n",
            " )                                                               \n",
            "                                                                 \n",
            " dropout (Dropout)           (None, 18662, 8)          0         \n",
            "                                                                 \n",
            " conv1d_1 (Conv1D)           (None, 18652, 16)         1424      \n",
            "                                                                 \n",
            " max_pooling1d_1 (MaxPooling  (None, 6217, 16)         0         \n",
            " 1D)                                                             \n",
            "                                                                 \n",
            " dropout_1 (Dropout)         (None, 6217, 16)          0         \n",
            "                                                                 \n",
            " conv1d_2 (Conv1D)           (None, 6209, 32)          4640      \n",
            "                                                                 \n",
            " max_pooling1d_2 (MaxPooling  (None, 2069, 32)         0         \n",
            " 1D)                                                             \n",
            "                                                                 \n",
            " dropout_2 (Dropout)         (None, 2069, 32)          0         \n",
            "                                                                 \n",
            " conv1d_3 (Conv1D)           (None, 2063, 64)          14400     \n",
            "                                                                 \n",
            " max_pooling1d_3 (MaxPooling  (None, 687, 64)          0         \n",
            " 1D)                                                             \n",
            "                                                                 \n",
            " dropout_3 (Dropout)         (None, 687, 64)           0         \n",
            "                                                                 \n",
            " flatten (Flatten)           (None, 43968)             0         \n",
            "                                                                 \n",
            " dense (Dense)               (None, 256)               11256064  \n",
            "                                                                 \n",
            " dropout_4 (Dropout)         (None, 256)               0         \n",
            "                                                                 \n",
            " dense_1 (Dense)             (None, 128)               32896     \n",
            "                                                                 \n",
            " dropout_5 (Dropout)         (None, 128)               0         \n",
            "                                                                 \n",
            " dense_2 (Dense)             (None, 5)                 645       \n",
            "                                                                 \n",
            "=================================================================\n",
            "Total params: 11,310,181\n",
            "Trainable params: 11,310,181\n",
            "Non-trainable params: 0\n",
            "_________________________________________________________________\n"
          ]
        }
      ]
    },
    {
      "cell_type": "code",
      "source": [
        "!mkdir model"
      ],
      "metadata": {
        "id": "Y58-XTKOFqDQ"
      },
      "execution_count": null,
      "outputs": []
    },
    {
      "cell_type": "code",
      "source": [
        "snapshot_folder='model'\n",
        "es = EarlyStopping(monitor='val_loss', mode='min', verbose=1, patience=30, min_delta=0.0001) \n",
        "mc = ModelCheckpoint(snapshot_folder+'/best_model.hdf5', monitor='val_accuracy', verbose=1, save_best_only=True, mode='max')"
      ],
      "metadata": {
        "id": "IFK9uzGtFyxX"
      },
      "execution_count": null,
      "outputs": []
    },
    {
      "cell_type": "code",
      "source": [
        "history= model.fit(x_tr, y_tr ,epochs=100, callbacks=[es,mc], batch_size=bs, validation_data=(x_val,y_val))"
      ],
      "metadata": {
        "colab": {
          "base_uri": "https://localhost:8080/"
        },
        "id": "Daf7YUIVF3ON",
        "outputId": "5bab7674-a4c1-4645-f361-b37c0b985849"
      },
      "execution_count": null,
      "outputs": [
        {
          "output_type": "stream",
          "name": "stdout",
          "text": [
            "Epoch 1/100\n",
            "3/3 [==============================] - ETA: 0s - loss: 1.8379 - accuracy: 0.3506\n",
            "Epoch 1: val_accuracy improved from -inf to 0.60000, saving model to model/best_model.hdf5\n",
            "3/3 [==============================] - 8s 2s/step - loss: 1.8379 - accuracy: 0.3506 - val_loss: 1.4689 - val_accuracy: 0.6000\n",
            "Epoch 2/100\n",
            "3/3 [==============================] - ETA: 0s - loss: 1.4195 - accuracy: 0.5714\n",
            "Epoch 2: val_accuracy did not improve from 0.60000\n",
            "3/3 [==============================] - 6s 1s/step - loss: 1.4195 - accuracy: 0.5714 - val_loss: 1.5159 - val_accuracy: 0.6000\n",
            "Epoch 3/100\n",
            "3/3 [==============================] - ETA: 0s - loss: 1.3367 - accuracy: 0.5584\n",
            "Epoch 3: val_accuracy did not improve from 0.60000\n",
            "3/3 [==============================] - 5s 1s/step - loss: 1.3367 - accuracy: 0.5584 - val_loss: 1.4771 - val_accuracy: 0.6000\n",
            "Epoch 4/100\n",
            "3/3 [==============================] - ETA: 0s - loss: 1.3059 - accuracy: 0.6104\n",
            "Epoch 4: val_accuracy did not improve from 0.60000\n",
            "3/3 [==============================] - 7s 2s/step - loss: 1.3059 - accuracy: 0.6104 - val_loss: 1.4082 - val_accuracy: 0.6000\n",
            "Epoch 5/100\n",
            "3/3 [==============================] - ETA: 0s - loss: 1.2373 - accuracy: 0.5974\n",
            "Epoch 5: val_accuracy did not improve from 0.60000\n",
            "3/3 [==============================] - 5s 1s/step - loss: 1.2373 - accuracy: 0.5974 - val_loss: 1.3154 - val_accuracy: 0.6000\n",
            "Epoch 6/100\n",
            "3/3 [==============================] - ETA: 0s - loss: 1.1729 - accuracy: 0.5974\n",
            "Epoch 6: val_accuracy did not improve from 0.60000\n",
            "3/3 [==============================] - 5s 1s/step - loss: 1.1729 - accuracy: 0.5974 - val_loss: 1.2431 - val_accuracy: 0.6000\n",
            "Epoch 7/100\n",
            "3/3 [==============================] - ETA: 0s - loss: 1.1211 - accuracy: 0.6234\n",
            "Epoch 7: val_accuracy did not improve from 0.60000\n",
            "3/3 [==============================] - 7s 2s/step - loss: 1.1211 - accuracy: 0.6234 - val_loss: 1.2448 - val_accuracy: 0.6000\n",
            "Epoch 8/100\n",
            "3/3 [==============================] - ETA: 0s - loss: 1.0874 - accuracy: 0.6104\n",
            "Epoch 8: val_accuracy did not improve from 0.60000\n",
            "3/3 [==============================] - 5s 2s/step - loss: 1.0874 - accuracy: 0.6104 - val_loss: 1.3091 - val_accuracy: 0.6000\n",
            "Epoch 9/100\n",
            "3/3 [==============================] - ETA: 0s - loss: 1.0023 - accuracy: 0.6753\n",
            "Epoch 9: val_accuracy did not improve from 0.60000\n",
            "3/3 [==============================] - 5s 2s/step - loss: 1.0023 - accuracy: 0.6753 - val_loss: 1.2914 - val_accuracy: 0.6000\n",
            "Epoch 10/100\n",
            "3/3 [==============================] - ETA: 0s - loss: 0.9970 - accuracy: 0.6364\n",
            "Epoch 10: val_accuracy did not improve from 0.60000\n",
            "3/3 [==============================] - 6s 1s/step - loss: 0.9970 - accuracy: 0.6364 - val_loss: 1.2216 - val_accuracy: 0.6000\n",
            "Epoch 11/100\n",
            "3/3 [==============================] - ETA: 0s - loss: 0.9635 - accuracy: 0.6364\n",
            "Epoch 11: val_accuracy did not improve from 0.60000\n",
            "3/3 [==============================] - 6s 2s/step - loss: 0.9635 - accuracy: 0.6364 - val_loss: 1.2006 - val_accuracy: 0.6000\n",
            "Epoch 12/100\n",
            "3/3 [==============================] - ETA: 0s - loss: 0.8602 - accuracy: 0.6494\n",
            "Epoch 12: val_accuracy did not improve from 0.60000\n",
            "3/3 [==============================] - 7s 2s/step - loss: 0.8602 - accuracy: 0.6494 - val_loss: 1.2098 - val_accuracy: 0.6000\n",
            "Epoch 13/100\n",
            "3/3 [==============================] - ETA: 0s - loss: 0.7473 - accuracy: 0.7273\n",
            "Epoch 13: val_accuracy did not improve from 0.60000\n",
            "3/3 [==============================] - 6s 2s/step - loss: 0.7473 - accuracy: 0.7273 - val_loss: 1.2491 - val_accuracy: 0.6000\n",
            "Epoch 14/100\n",
            "3/3 [==============================] - ETA: 0s - loss: 0.7149 - accuracy: 0.7532\n",
            "Epoch 14: val_accuracy did not improve from 0.60000\n",
            "3/3 [==============================] - 10s 3s/step - loss: 0.7149 - accuracy: 0.7532 - val_loss: 1.3179 - val_accuracy: 0.5500\n",
            "Epoch 15/100\n",
            "3/3 [==============================] - ETA: 0s - loss: 0.6617 - accuracy: 0.7273\n",
            "Epoch 15: val_accuracy did not improve from 0.60000\n",
            "3/3 [==============================] - 5s 1s/step - loss: 0.6617 - accuracy: 0.7273 - val_loss: 1.3679 - val_accuracy: 0.4500\n",
            "Epoch 16/100\n",
            "3/3 [==============================] - ETA: 0s - loss: 0.5975 - accuracy: 0.7922\n",
            "Epoch 16: val_accuracy did not improve from 0.60000\n",
            "3/3 [==============================] - 5s 1s/step - loss: 0.5975 - accuracy: 0.7922 - val_loss: 1.3510 - val_accuracy: 0.6000\n",
            "Epoch 17/100\n",
            "3/3 [==============================] - ETA: 0s - loss: 0.5891 - accuracy: 0.7273\n",
            "Epoch 17: val_accuracy did not improve from 0.60000\n",
            "3/3 [==============================] - 7s 2s/step - loss: 0.5891 - accuracy: 0.7273 - val_loss: 1.4341 - val_accuracy: 0.6000\n",
            "Epoch 18/100\n",
            "3/3 [==============================] - ETA: 0s - loss: 0.5747 - accuracy: 0.8052\n",
            "Epoch 18: val_accuracy did not improve from 0.60000\n",
            "3/3 [==============================] - 5s 1s/step - loss: 0.5747 - accuracy: 0.8052 - val_loss: 1.4704 - val_accuracy: 0.5000\n",
            "Epoch 19/100\n",
            "3/3 [==============================] - ETA: 0s - loss: 0.7520 - accuracy: 0.7922\n",
            "Epoch 19: val_accuracy did not improve from 0.60000\n",
            "3/3 [==============================] - 5s 2s/step - loss: 0.7520 - accuracy: 0.7922 - val_loss: 1.4505 - val_accuracy: 0.5500\n",
            "Epoch 20/100\n",
            "3/3 [==============================] - ETA: 0s - loss: 0.6057 - accuracy: 0.8182\n",
            "Epoch 20: val_accuracy did not improve from 0.60000\n",
            "3/3 [==============================] - 6s 2s/step - loss: 0.6057 - accuracy: 0.8182 - val_loss: 1.3613 - val_accuracy: 0.6000\n",
            "Epoch 21/100\n",
            "3/3 [==============================] - ETA: 0s - loss: 0.6680 - accuracy: 0.7922\n",
            "Epoch 21: val_accuracy did not improve from 0.60000\n",
            "3/3 [==============================] - 4s 1s/step - loss: 0.6680 - accuracy: 0.7922 - val_loss: 1.2948 - val_accuracy: 0.6000\n",
            "Epoch 22/100\n",
            "3/3 [==============================] - ETA: 0s - loss: 0.5479 - accuracy: 0.8312\n",
            "Epoch 22: val_accuracy did not improve from 0.60000\n",
            "3/3 [==============================] - 6s 2s/step - loss: 0.5479 - accuracy: 0.8312 - val_loss: 1.2972 - val_accuracy: 0.5000\n",
            "Epoch 23/100\n",
            "3/3 [==============================] - ETA: 0s - loss: 0.4521 - accuracy: 0.8571\n",
            "Epoch 23: val_accuracy did not improve from 0.60000\n",
            "3/3 [==============================] - 5s 1s/step - loss: 0.4521 - accuracy: 0.8571 - val_loss: 1.2871 - val_accuracy: 0.5500\n",
            "Epoch 24/100\n",
            "3/3 [==============================] - ETA: 0s - loss: 0.4828 - accuracy: 0.8182\n",
            "Epoch 24: val_accuracy did not improve from 0.60000\n",
            "3/3 [==============================] - 5s 1s/step - loss: 0.4828 - accuracy: 0.8182 - val_loss: 1.3350 - val_accuracy: 0.5500\n",
            "Epoch 25/100\n",
            "3/3 [==============================] - ETA: 0s - loss: 0.3408 - accuracy: 0.8961\n",
            "Epoch 25: val_accuracy did not improve from 0.60000\n",
            "3/3 [==============================] - 7s 2s/step - loss: 0.3408 - accuracy: 0.8961 - val_loss: 1.5030 - val_accuracy: 0.5000\n",
            "Epoch 26/100\n",
            "3/3 [==============================] - ETA: 0s - loss: 0.3982 - accuracy: 0.8571\n",
            "Epoch 26: val_accuracy did not improve from 0.60000\n",
            "3/3 [==============================] - 5s 1s/step - loss: 0.3982 - accuracy: 0.8571 - val_loss: 1.6558 - val_accuracy: 0.4500\n",
            "Epoch 27/100\n",
            "3/3 [==============================] - ETA: 0s - loss: 0.2860 - accuracy: 0.8701\n",
            "Epoch 27: val_accuracy did not improve from 0.60000\n",
            "3/3 [==============================] - 5s 2s/step - loss: 0.2860 - accuracy: 0.8701 - val_loss: 1.7443 - val_accuracy: 0.5000\n",
            "Epoch 28/100\n",
            "3/3 [==============================] - ETA: 0s - loss: 0.4582 - accuracy: 0.8312\n",
            "Epoch 28: val_accuracy did not improve from 0.60000\n",
            "3/3 [==============================] - 7s 2s/step - loss: 0.4582 - accuracy: 0.8312 - val_loss: 1.7540 - val_accuracy: 0.5500\n",
            "Epoch 29/100\n",
            "3/3 [==============================] - ETA: 0s - loss: 0.3272 - accuracy: 0.8831\n",
            "Epoch 29: val_accuracy did not improve from 0.60000\n",
            "3/3 [==============================] - 4s 1s/step - loss: 0.3272 - accuracy: 0.8831 - val_loss: 1.7199 - val_accuracy: 0.4500\n",
            "Epoch 30/100\n",
            "3/3 [==============================] - ETA: 0s - loss: 0.2794 - accuracy: 0.9091\n",
            "Epoch 30: val_accuracy did not improve from 0.60000\n",
            "3/3 [==============================] - 5s 2s/step - loss: 0.2794 - accuracy: 0.9091 - val_loss: 1.7161 - val_accuracy: 0.6000\n",
            "Epoch 31/100\n",
            "3/3 [==============================] - ETA: 0s - loss: 0.2331 - accuracy: 0.9351\n",
            "Epoch 31: val_accuracy improved from 0.60000 to 0.65000, saving model to model/best_model.hdf5\n",
            "3/3 [==============================] - 6s 2s/step - loss: 0.2331 - accuracy: 0.9351 - val_loss: 1.9042 - val_accuracy: 0.6500\n",
            "Epoch 32/100\n",
            "3/3 [==============================] - ETA: 0s - loss: 0.5269 - accuracy: 0.8571\n",
            "Epoch 32: val_accuracy did not improve from 0.65000\n",
            "3/3 [==============================] - 5s 1s/step - loss: 0.5269 - accuracy: 0.8571 - val_loss: 1.7915 - val_accuracy: 0.6000\n",
            "Epoch 33/100\n",
            "3/3 [==============================] - ETA: 0s - loss: 0.3449 - accuracy: 0.8831\n",
            "Epoch 33: val_accuracy did not improve from 0.65000\n",
            "3/3 [==============================] - 7s 2s/step - loss: 0.3449 - accuracy: 0.8831 - val_loss: 1.7537 - val_accuracy: 0.5000\n",
            "Epoch 34/100\n",
            "3/3 [==============================] - ETA: 0s - loss: 0.2560 - accuracy: 0.9221\n",
            "Epoch 34: val_accuracy did not improve from 0.65000\n",
            "3/3 [==============================] - 5s 1s/step - loss: 0.2560 - accuracy: 0.9221 - val_loss: 1.7814 - val_accuracy: 0.4500\n",
            "Epoch 35/100\n",
            "3/3 [==============================] - ETA: 0s - loss: 0.3024 - accuracy: 0.9091\n",
            "Epoch 35: val_accuracy did not improve from 0.65000\n",
            "3/3 [==============================] - 4s 1s/step - loss: 0.3024 - accuracy: 0.9091 - val_loss: 1.7578 - val_accuracy: 0.5000\n",
            "Epoch 36/100\n",
            "3/3 [==============================] - ETA: 0s - loss: 0.1987 - accuracy: 0.9481\n",
            "Epoch 36: val_accuracy did not improve from 0.65000\n",
            "3/3 [==============================] - 7s 2s/step - loss: 0.1987 - accuracy: 0.9481 - val_loss: 1.8483 - val_accuracy: 0.6000\n",
            "Epoch 37/100\n",
            "3/3 [==============================] - ETA: 0s - loss: 0.2203 - accuracy: 0.9481\n",
            "Epoch 37: val_accuracy did not improve from 0.65000\n",
            "3/3 [==============================] - 4s 1s/step - loss: 0.2203 - accuracy: 0.9481 - val_loss: 2.0167 - val_accuracy: 0.6000\n",
            "Epoch 38/100\n",
            "3/3 [==============================] - ETA: 0s - loss: 0.2058 - accuracy: 0.9091\n",
            "Epoch 38: val_accuracy did not improve from 0.65000\n",
            "3/3 [==============================] - 4s 1s/step - loss: 0.2058 - accuracy: 0.9091 - val_loss: 2.1076 - val_accuracy: 0.5500\n",
            "Epoch 39/100\n",
            "3/3 [==============================] - ETA: 0s - loss: 0.1902 - accuracy: 0.9481\n",
            "Epoch 39: val_accuracy did not improve from 0.65000\n",
            "3/3 [==============================] - 7s 2s/step - loss: 0.1902 - accuracy: 0.9481 - val_loss: 2.1727 - val_accuracy: 0.5500\n",
            "Epoch 40/100\n",
            "3/3 [==============================] - ETA: 0s - loss: 0.1522 - accuracy: 0.9351\n",
            "Epoch 40: val_accuracy did not improve from 0.65000\n",
            "3/3 [==============================] - 5s 1s/step - loss: 0.1522 - accuracy: 0.9351 - val_loss: 2.0896 - val_accuracy: 0.5500\n",
            "Epoch 41/100\n",
            "3/3 [==============================] - ETA: 0s - loss: 0.1272 - accuracy: 0.9610\n",
            "Epoch 41: val_accuracy did not improve from 0.65000\n",
            "3/3 [==============================] - 5s 2s/step - loss: 0.1272 - accuracy: 0.9610 - val_loss: 2.1971 - val_accuracy: 0.5500\n",
            "Epoch 41: early stopping\n"
          ]
        }
      ]
    },
    {
      "cell_type": "code",
      "source": [
        "from matplotlib import pyplot as plt\n",
        "plt.plot(history.history['loss'], label='train') \n",
        "plt.plot(history.history['val_loss'], label='test') \n",
        "plt.legend() \n",
        "plt.show()"
      ],
      "metadata": {
        "colab": {
          "base_uri": "https://localhost:8080/",
          "height": 430
        },
        "id": "ub_YhYSmHqhz",
        "outputId": "e1caacde-d485-42b4-972e-324e22694eb4"
      },
      "execution_count": null,
      "outputs": [
        {
          "output_type": "display_data",
          "data": {
            "text/plain": [
              "<Figure size 640x480 with 1 Axes>"
            ],
            "image/png": "[encoded data removed]"
          },
          "metadata": {}
        }
      ]
    },
    {
      "cell_type": "code",
      "source": [
        "from tensorflow import keras\n",
        "def predict(audio):\n",
        "    model=keras.models.load_model('/content/model/best_model.hdf5')\n",
        "    prob=model.predict(audio.reshape(1,sample_r,1))\n",
        "    index=np.argmax(prob[0])\n",
        "    return classes[index]"
      ],
      "metadata": {
        "id": "nGtX0biTHumC"
      },
      "execution_count": null,
      "outputs": []
    },
    {
      "cell_type": "code",
      "source": [
        "import random\n",
        "index=random.randint(0,len(x_tr)-1)\n",
        "samples=x_tr[index].ravel()\n",
        "print(\"Audio:\",classes[np.argmax(y_tr[index])])\n",
        "ipd.Audio(samples, rate=sample_r)\n",
        "print(\"Text:\",predict(samples))"
      ],
      "metadata": {
        "colab": {
          "base_uri": "https://localhost:8080/"
        },
        "id": "dMpB9goxicJ5",
        "outputId": "d2f054d4-920c-4a6b-e12f-9d9f7fa13e0c"
      },
      "execution_count": null,
      "outputs": [
        {
          "output_type": "stream",
          "name": "stdout",
          "text": [
            "Audio: tired\n",
            "1/1 [==============================] - 0s 146ms/step\n",
            "Text: tired\n"
          ]
        }
      ]
    },
    {
      "cell_type": "code",
      "source": [
        "from tensorflow import keras\n",
        "import tensorflow as tf\n",
        "model = tf.keras.models.load_model('/content/model/best_model.hdf5')\n",
        "converter = tf.lite.TFLiteConverter.from_keras_model(model)\n",
        "tflite_model = converter.convert()\n",
        "with open('model.tflite', 'wb') as f:\n",
        "   f.write(tflite_model)\n"
      ],
      "metadata": {
        "id": "VsdWbeux2HlG",
        "outputId": "b334ca9e-258d-4f0c-fffa-2ec0ba7e3e4e",
        "colab": {
          "base_uri": "https://localhost:8080/"
        }
      },
      "execution_count": null,
      "outputs": [
        {
          "output_type": "stream",
          "name": "stderr",
          "text": [
            "WARNING:absl:Found untraced functions such as _jit_compiled_convolution_op, _jit_compiled_convolution_op, _jit_compiled_convolution_op, _jit_compiled_convolution_op, _update_step_xla while saving (showing 5 of 5). These functions will not be directly callable after loading.\n"
          ]
        }
      ]
    }
  ]
}